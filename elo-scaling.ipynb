{
 "cells": [
  {
   "cell_type": "code",
   "execution_count": null,
   "metadata": {},
   "outputs": [],
   "source": [
    "import numpy as np\n",
    "import matplotlib.pyplot as plt\n",
    "import matplotlib\n",
    "# import seaborn as sns\n",
    "import os\n",
    "import re\n",
    "from scipy.optimize import curve_fit\n",
    "# sns.set_theme(style = \"whitegrid\")"
   ]
  },
  {
   "cell_type": "code",
   "execution_count": null,
   "metadata": {},
   "outputs": [],
   "source": [
    "matplotlib.matplotlib_fname()"
   ]
  },
  {
   "cell_type": "code",
   "execution_count": null,
   "metadata": {},
   "outputs": [],
   "source": [
    "with open(\"net-size-guantlet-ratings.txt\") as f:\n",
    "    text = f.readlines()"
   ]
  },
  {
   "cell_type": "code",
   "execution_count": null,
   "metadata": {},
   "outputs": [],
   "source": [
    "data = [s.split()[1:5] for s in text]\n",
    "names, _, elos, errors = zip(*data[2:])\n",
    "names = list(map(int, names))\n",
    "elos = list(map(float, elos))\n",
    "errors = list(map(float, errors))\n",
    "up_down_errors = [errors, errors]"
   ]
  },
  {
   "cell_type": "code",
   "execution_count": null,
   "metadata": {},
   "outputs": [],
   "source": [
    "# Create plot\n",
    "fig, ax = plt.subplots()\n",
    "\n",
    "# Customize plot\n",
    "ax.set_ylabel(\"Elo\")\n",
    "ax.set_yticks(list(range(0, 550, 50)))\n",
    "ax.set_xlabel(\"Number of Neurons\")\n",
    "ax.set_xscale(\"log\", base = 2)\n",
    "ax.set_xticks([2 ** (x / 2) for x in range(4 * 2, 14 * 2)])\n",
    "ax.set_xticklabels([2 ** (x // 2) if x % 2 == 0 else None for x in range(4 * 2, 14 * 2)])\n",
    "ax.set_xlim(16, 8192)\n",
    "ax.set_title(\"Elo vs. Net Size\")\n",
    "(_, caps, _) = ax.errorbar(\n",
    "    names,\n",
    "    elos,\n",
    "    yerr=up_down_errors,\n",
    "    fmt='o',\n",
    "    label=\"scaling\",\n",
    "    # add line through the data\n",
    "    ls='--',\n",
    "    lw=1.5,\n",
    ")\n",
    "for cap in caps:\n",
    "    cap.set_markeredgewidth(1.0)\n",
    "# ax.plot([1536], [598.0], \"x\", label=\"master\")\n",
    "ax.legend()\n",
    "\n",
    "plt.tight_layout()\n",
    "plt.show()"
   ]
  },
  {
   "cell_type": "code",
   "execution_count": null,
   "metadata": {},
   "outputs": [],
   "source": [
    "# Data points\n",
    "WDL = np.array([0.0, 0.1, 0.2, 0.3, 0.4, 0.5, 0.6, 0.7, 0.8, 0.9, 1.0])\n",
    "values = np.array([21.8, -3.7, 22.5, 3.1, 13.0, 0.0, -4.9, -25.9, -10.0, -37.8, -46.3])\n",
    "errors = np.array([15.6, 15.7, 15.5, 16.0, 15.7, 0.0, 15.4, 15.6, 15.4, 15.0, 15.7])\n",
    "lower_bounds = np.subtract(values, errors)\n",
    "upper_bounds = np.add(values, errors)\n",
    "\n",
    "fig, ax = plt.subplots()\n",
    "\n",
    "# Plotting data with error bars\n",
    "ax.errorbar(WDL, values, yerr=errors, fmt='o', label='Elo')\n",
    "\n",
    "# Define fitting functions\n",
    "def linear_fit(x, a, b):\n",
    "    return a * x + b\n",
    "\n",
    "def quadratic_fit(x, a, b, c):\n",
    "    return a * x**2 + b * x + c\n",
    "\n",
    "def cubic_fit(x, a, b, c, d):\n",
    "    return a * x**3 + b * x**2 + c * x + d\n",
    "\n",
    "# Fit the data using the defined functions\n",
    "params_linear, _ = curve_fit(linear_fit, WDL, values)\n",
    "params_quadratic, _ = curve_fit(quadratic_fit, WDL, values)\n",
    "\n",
    "lb_params_quadratic, _ = curve_fit(quadratic_fit, WDL, lower_bounds)\n",
    "ub_params_quadratic, _ = curve_fit(quadratic_fit, WDL, upper_bounds)\n",
    "\n",
    "# Generate x values for plotting the fit curves\n",
    "x_fit = np.linspace(0, 1, 100)\n",
    "\n",
    "# Plot the fitted curves\n",
    "# ax.plot(x_fit, linear_fit(x_fit, *params_linear), label='Linear Fit')\n",
    "# ax.plot(x_fit, quadratic_fit(x_fit, *params_quadratic), label='Quadratic Fit')\n",
    "\n",
    "ax.plot(x_fit, quadratic_fit(x_fit, *ub_params_quadratic), label='Upper Bound')\n",
    "ax.plot(x_fit, quadratic_fit(x_fit, *lb_params_quadratic), label='Lower Bound')\n",
    "\n",
    "# Plot settings\n",
    "ax.set_xlabel('WDL-λ')\n",
    "ax.set_ylabel('Elo')\n",
    "ax.set_title('Elo of different WDL-λ values')\n",
    "ax.set_xticks(np.arange(0, 1.1, 0.1))\n",
    "ax.legend()\n",
    "ax.grid(True)\n",
    "fig.tight_layout()\n",
    "\n",
    "# Show the plot\n",
    "plt.show()\n",
    "\n",
    "# Display the parameters of the fitted curves\n",
    "params_linear, params_quadratic, ub_params_quadratic, lb_params_quadratic"
   ]
  }
 ],
 "metadata": {
  "kernelspec": {
   "display_name": "venv",
   "language": "python",
   "name": "python3"
  },
  "language_info": {
   "codemirror_mode": {
    "name": "ipython",
    "version": 3
   },
   "file_extension": ".py",
   "mimetype": "text/x-python",
   "name": "python",
   "nbconvert_exporter": "python",
   "pygments_lexer": "ipython3",
   "version": "3.12.7"
  }
 },
 "nbformat": 4,
 "nbformat_minor": 2
}
