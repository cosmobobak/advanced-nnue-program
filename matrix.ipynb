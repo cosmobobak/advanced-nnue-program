{
 "cells": [
  {
   "cell_type": "code",
   "execution_count": null,
   "metadata": {},
   "outputs": [],
   "source": [
    "import matplotlib.pyplot as plt\n",
    "import numpy as np\n",
    "import random"
   ]
  },
  {
   "cell_type": "code",
   "execution_count": null,
   "metadata": {},
   "outputs": [],
   "source": [
    "# Load the data from the file\n",
    "matrix = np.loadtxt('correlations.txt', delimiter=',', dtype=int)\n",
    "\n",
    "# Verify the shape of the matrix\n",
    "rows, cols = matrix.shape\n",
    "assert rows == cols"
   ]
  },
  {
   "cell_type": "code",
   "execution_count": null,
   "metadata": {},
   "outputs": [],
   "source": [
    "self_frequencies = np.diag(matrix)\n",
    "sort_indices = np.argsort(self_frequencies)[::-1]\n",
    "sorted_matrix = matrix[sort_indices][:, sort_indices]\n",
    "sorted_self_frequencies = np.diag(sorted_matrix)\n",
    "\n",
    "print(f\"{sort_indices = }\")\n",
    "print(f\"diagonal = {np.diag(sorted_matrix)}\")"
   ]
  },
  {
   "cell_type": "code",
   "execution_count": null,
   "metadata": {},
   "outputs": [],
   "source": [
    "plt.figure(figsize=(12, 10))\n",
    "plt.imshow(sorted_matrix, interpolation=\"none\")\n",
    "plt.colorbar(label=\"occurences\")\n",
    "plt.title(\"non-zero co-activations\")\n",
    "plt.grid(False)\n",
    "plt.tight_layout()\n",
    "plt.show()"
   ]
  },
  {
   "cell_type": "code",
   "execution_count": null,
   "metadata": {},
   "outputs": [],
   "source": [
    "plt.figure(figsize=(12, 10))\n",
    "plt.imshow(sorted_matrix[:256, :256], interpolation='none')\n",
    "plt.colorbar(label=\"occurences\")\n",
    "plt.title(\"non-zero co-activations\")\n",
    "plt.grid(False)\n",
    "plt.tight_layout()\n",
    "plt.show()"
   ]
  },
  {
   "cell_type": "code",
   "execution_count": null,
   "metadata": {},
   "outputs": [],
   "source": [
    "# scale each co-activation by the self-frequency of the corresponding neuron\n",
    "scaled_matrix = np.zeros_like(sorted_matrix, dtype=float)\n",
    "for i in range(rows):\n",
    "    for j in range(cols):\n",
    "        scaled_matrix[i, j] = sorted_matrix[i, j] / np.sqrt(\n",
    "            sorted_self_frequencies[i] * sorted_self_frequencies[j]\n",
    "        )"
   ]
  },
  {
   "cell_type": "code",
   "execution_count": null,
   "metadata": {},
   "outputs": [],
   "source": [
    "plt.figure(figsize=(12, 10))\n",
    "plt.imshow(scaled_matrix, interpolation=\"none\")\n",
    "plt.colorbar(label=\"scaled co-activation\")\n",
    "plt.title(\"scaled co-activations\")\n",
    "plt.grid(False)\n",
    "plt.tight_layout()\n",
    "plt.show()"
   ]
  },
  {
   "cell_type": "code",
   "execution_count": null,
   "metadata": {},
   "outputs": [],
   "source": [
    "def cost_function(order: np.ndarray) -> np.int64:\n",
    "    \"\"\"Calculate the cost of a visit order.\"\"\"\n",
    "    correlation = np.int64(0)\n",
    "    for i in range(0, len(order) - 8):\n",
    "        correlation += (\n",
    "            matrix[order[i], order[i + 1 : i + 8]].sum(dtype=np.int64) * order[i]\n",
    "        )\n",
    "    return -correlation\n",
    "\n",
    "\n",
    "def swap_two(order: np.ndarray) -> np.ndarray:\n",
    "    \"\"\"Swap two random indices.\"\"\"\n",
    "    a, b = random.sample(range(len(order)), 2)\n",
    "    order[a], order[b] = order[b], order[a]\n",
    "    return order\n",
    "\n",
    "\n",
    "def reverse_segment(order: np.ndarray) -> np.ndarray:\n",
    "    \"\"\"Reverse a random segment.\"\"\"\n",
    "    a, b = sorted(random.sample(range(len(order)), 2))\n",
    "    order[a : b + 1] = order[a : b + 1][::-1]\n",
    "    return order\n",
    "\n",
    "\n",
    "def simulated_annealing(order: np.ndarray, initial_temp=1, cooling_rate=0.9995, min_temp=1e-2) -> tuple[np.ndarray, np.int64]:\n",
    "    \"\"\"Simulated annealing to optimise the visit order.\"\"\"\n",
    "    current_order = order[:]\n",
    "    best_order = order[:]\n",
    "    current_cost = cost_function(current_order)\n",
    "    best_cost = current_cost\n",
    "    temp = initial_temp\n",
    "\n",
    "    while temp > min_temp:\n",
    "        new_order = random.choice([swap_two, reverse_segment])(current_order[:])\n",
    "        new_cost = cost_function(new_order)\n",
    "\n",
    "        if (\n",
    "            new_cost < current_cost\n",
    "            or np.exp((current_cost - new_cost) / temp) > random.random()\n",
    "        ):\n",
    "            current_order, current_cost = new_order, new_cost\n",
    "            if new_cost < best_cost:\n",
    "                best_order, best_cost = new_order[:], new_cost\n",
    "\n",
    "        temp *= cooling_rate\n",
    "        print(f\"{temp = }, {best_cost = }\")\n",
    "\n",
    "    return best_order, best_cost\n"
   ]
  },
  {
   "cell_type": "code",
   "execution_count": null,
   "metadata": {},
   "outputs": [],
   "source": [
    "# first, try by starting with the 0..2048 indices\n",
    "# initial_order = np.arange(len(matrix))\n",
    "\n",
    "final_best_order, final_best_cost = simulated_annealing(np.argsort(np.diag(matrix)))\n",
    "# final_best_order, final_best_cost = simulated_annealing(initial_order)\n",
    "\n",
    "print(f\"best cost = {final_best_cost}\")\n",
    "print(f\"best order = {final_best_order}\")"
   ]
  },
  {
   "cell_type": "code",
   "execution_count": null,
   "metadata": {},
   "outputs": [],
   "source": [
    "factored_matrix = matrix[final_best_order][:, final_best_order]\n",
    "factored_self_freqs = np.diag(factored_matrix)\n",
    "scaled_factored_matrix = np.zeros_like(factored_matrix, dtype=float)\n",
    "for i in range(len(factored_matrix)):\n",
    "    for j in range(len(factored_matrix)):\n",
    "        scaled_factored_matrix[i, j] = factored_matrix[i, j] / np.sqrt(\n",
    "            factored_self_freqs[i] * factored_self_freqs[j]\n",
    "        )"
   ]
  },
  {
   "cell_type": "code",
   "execution_count": null,
   "metadata": {},
   "outputs": [],
   "source": [
    "plt.figure(figsize=(12, 10))\n",
    "plt.imshow(scaled_factored_matrix, interpolation=\"none\")\n",
    "plt.colorbar(label=\"number of co-activations\")\n",
    "plt.title(\"factored co-activations\")\n",
    "plt.grid(False)\n",
    "plt.tight_layout()\n",
    "plt.show()"
   ]
  },
  {
   "cell_type": "code",
   "execution_count": null,
   "metadata": {},
   "outputs": [],
   "source": [
    "\",\".join([f\"{int(x)}\" for x in final_best_order])"
   ]
  },
  {
   "cell_type": "code",
   "execution_count": null,
   "metadata": {},
   "outputs": [],
   "source": [
    "\",\".join([f\"{int(x)}\" for x in np.argsort(np.diag(matrix))])"
   ]
  }
 ],
 "metadata": {
  "kernelspec": {
   "display_name": "venv",
   "language": "python",
   "name": "python3"
  },
  "language_info": {
   "codemirror_mode": {
    "name": "ipython",
    "version": 3
   },
   "file_extension": ".py",
   "mimetype": "text/x-python",
   "name": "python",
   "nbconvert_exporter": "python",
   "pygments_lexer": "ipython3",
   "version": "3.12.7"
  }
 },
 "nbformat": 4,
 "nbformat_minor": 2
}
