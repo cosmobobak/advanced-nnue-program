{
 "cells": [
  {
   "cell_type": "code",
   "execution_count": null,
   "metadata": {},
   "outputs": [],
   "source": [
    "import matplotlib.pyplot as plt\n",
    "import numpy as np\n",
    "import random"
   ]
  },
  {
   "cell_type": "code",
   "execution_count": null,
   "metadata": {},
   "outputs": [],
   "source": [
    "%config InlineBackend.figure_format = 'retina'\n",
    "from qbstyles import mpl_style\n",
    "mpl_style(dark=True)"
   ]
  },
  {
   "cell_type": "code",
   "execution_count": null,
   "metadata": {},
   "outputs": [],
   "source": [
    "# Load the data from the file\n",
    "matrix = np.load('correlations.npy')\n",
    "\n",
    "# cut out the top-left 100x100 section\n",
    "# matrix = matrix[:100, :100]\n",
    "\n",
    "# Verify the shape of the matrix\n",
    "rows, cols = matrix.shape\n",
    "assert rows == cols"
   ]
  },
  {
   "cell_type": "code",
   "execution_count": null,
   "metadata": {},
   "outputs": [],
   "source": [
    "diag = np.diag(matrix)\n",
    "self_frequencies = diag\n",
    "argsorted = np.argsort(self_frequencies)\n",
    "sort_indices = argsorted[::-1]\n",
    "sorted_matrix = matrix[sort_indices][:, sort_indices]\n",
    "sorted_self_frequencies = np.diag(sorted_matrix)\n",
    "\n",
    "assert np.array_equal(sorted_self_frequencies, diag[sort_indices]), f\"first few self-frequencies: {sorted_self_frequencies[:5]}, expected: {diag[sort_indices][:5]}\"\n",
    "\n",
    "print(f\"{sort_indices = }\")\n",
    "print(f\"diagonal = {np.diag(sorted_matrix)}\")"
   ]
  },
  {
   "cell_type": "code",
   "execution_count": null,
   "metadata": {},
   "outputs": [],
   "source": [
    "plt.figure(figsize=(12, 10))\n",
    "plt.imshow(sorted_matrix, interpolation=\"none\", cmap='inferno')\n",
    "plt.colorbar(label=\"occurences\")\n",
    "plt.title(\"non-zero co-activations\")\n",
    "plt.grid(False)\n",
    "plt.tight_layout()\n",
    "plt.show()"
   ]
  },
  {
   "cell_type": "code",
   "execution_count": null,
   "metadata": {},
   "outputs": [],
   "source": [
    "plt.figure(figsize=(12, 10))\n",
    "plt.imshow(sorted_matrix[:256, :256], interpolation='none', cmap='inferno')\n",
    "plt.colorbar(label=\"occurences\")\n",
    "plt.title(\"non-zero co-activations\")\n",
    "plt.grid(False)\n",
    "plt.tight_layout()\n",
    "plt.show()"
   ]
  },
  {
   "cell_type": "code",
   "execution_count": null,
   "metadata": {},
   "outputs": [],
   "source": [
    "# scale each co-activation by the self-frequency of the corresponding neuron\n",
    "scaled_matrix = np.zeros_like(sorted_matrix, dtype=float)\n",
    "for i in range(rows):\n",
    "    for j in range(cols):\n",
    "        scaled_matrix[i, j] = sorted_matrix[i, j] / np.sqrt(\n",
    "            self_frequencies[i] * self_frequencies[j]\n",
    "        )"
   ]
  },
  {
   "cell_type": "code",
   "execution_count": null,
   "metadata": {},
   "outputs": [],
   "source": [
    "plt.figure(figsize=(12, 10))\n",
    "plt.imshow(scaled_matrix, interpolation=\"none\", cmap='inferno')\n",
    "plt.colorbar(label=\"scaled co-activation\")\n",
    "plt.title(\"scaled co-activations\")\n",
    "plt.grid(False)\n",
    "plt.tight_layout()\n",
    "plt.show()"
   ]
  },
  {
   "cell_type": "code",
   "execution_count": null,
   "metadata": {},
   "outputs": [],
   "source": [
    "BLOCK_SIZE = 4\n",
    "\n",
    "def cost_function_blocks(order: np.ndarray) -> np.int64:\n",
    "    \"\"\"Calculate the cost of a visit order.\"\"\"\n",
    "    correlation = np.int64(0)\n",
    "    for i in range(0, len(order) - BLOCK_SIZE):\n",
    "        correlation += -np.sqrt(\n",
    "            matrix[order[i], order[i + 1 : i + BLOCK_SIZE]].sum(dtype=np.int64)\n",
    "        )\n",
    "    return correlation\n",
    "\n",
    "def cost_function_fds(order: np.ndarray) -> float:\n",
    "    \"\"\"Calculate the cost of a visit order.\"\"\"\n",
    "    # Compute all column differences at once\n",
    "    col_diffs = matrix[np.ix_(order, order[:-1])] - matrix[np.ix_(order, order[1:])]\n",
    "    return np.sum(np.sqrt(np.absolute(col_diffs)))\n",
    "\n",
    "def cost_function_r_criterion(order: np.ndarray) -> float:\n",
    "    \"\"\"Calculate the R-criterion cost of a visit order.\"\"\"\n",
    "    n = len(order)\n",
    "    # Create distance matrix (how far each position is from diagonal)\n",
    "    positions = np.arange(n)\n",
    "    distances = np.abs(positions[:, None] - positions[None, :])\n",
    "    \n",
    "    # Reorder the matrix according to the order\n",
    "    reordered = matrix[np.ix_(order, order)]\n",
    "    \n",
    "    # R-criterion: sum of (distance from diagonal * matrix value)\n",
    "    return np.sum(distances * reordered)\n",
    "\n",
    "def cost_function_tsp(order: np.ndarray) -> float:\n",
    "    \"\"\"Calculate the TSP-like cost of a visit order.\"\"\"\n",
    "    n = len(order)\n",
    "    total_cost = 0.0\n",
    "    for i in range(n - 1):\n",
    "        total_cost += -np.sqrt(matrix[order[i], order[i + 1]])\n",
    "    return total_cost\n",
    "\n",
    "def cost_function_absence(order: np.ndarray) -> np.int64:\n",
    "    \"\"\"Calculate the cost of a visit order.\"\"\"\n",
    "    cost = np.int64(0)\n",
    "    for i in range(BLOCK_SIZE, len(order) - BLOCK_SIZE):\n",
    "        cost += matrix[order[i], order[i + BLOCK_SIZE:]].sum(dtype=np.int64)\n",
    "        cost += matrix[order[i], order[:i - BLOCK_SIZE]].sum(dtype=np.int64)\n",
    "    return cost\n",
    "\n",
    "cost_function = cost_function_absence\n",
    "\n",
    "# heuristic 1: swap two random indices\n",
    "def swap_two(input: np.ndarray) -> np.ndarray:\n",
    "    \"\"\"Swap two random indices.\"\"\"\n",
    "    # avoid mutating the original order\n",
    "    order = input.copy()\n",
    "    assert not order is input\n",
    "    a, b = random.sample(range(len(order)), 2)\n",
    "    order[a], order[b] = order[b], order[a]\n",
    "    return order\n",
    "\n",
    "# heuristic 2: reverse a random segment\n",
    "def reverse_segment(input: np.ndarray) -> np.ndarray:\n",
    "    \"\"\"Reverse a random segment.\"\"\"\n",
    "    # avoid mutating the original order\n",
    "    order = input.copy()\n",
    "    assert not order is input\n",
    "    a, b = sorted(random.sample(range(len(order)), 2))\n",
    "    order[a : b + 1] = order[a : b + 1][::-1]\n",
    "    return order\n",
    "\n",
    "def simulated_annealing(\n",
    "    order: np.ndarray,\n",
    "    initial_temp=1,\n",
    "    cooling_rate=0.99,\n",
    "    min_temp=1#e-6\n",
    ") -> tuple[np.ndarray, np.int64]:\n",
    "    \"\"\"Simulated annealing to optimise the visit order.\"\"\"\n",
    "    current_order = order[:]\n",
    "    best_order = order[:]\n",
    "    current_cost = cost_function(order[:])\n",
    "    best_cost = current_cost\n",
    "    temp = initial_temp\n",
    "\n",
    "    while temp > min_temp:\n",
    "        new_order = random.choice([swap_two, reverse_segment])(current_order)\n",
    "        new_cost = cost_function(new_order)\n",
    "\n",
    "        if (\n",
    "            new_cost < current_cost\n",
    "            or np.exp((current_cost - new_cost) / temp) > random.random()\n",
    "        ):\n",
    "            current_order, current_cost = new_order.copy(), new_cost\n",
    "            if new_cost < best_cost:\n",
    "                best_order, best_cost = new_order.copy(), new_cost\n",
    "                print(f\"New best cost: {best_cost}\")\n",
    "\n",
    "        temp *= cooling_rate\n",
    "\n",
    "    return best_order, best_cost"
   ]
  },
  {
   "cell_type": "code",
   "execution_count": null,
   "metadata": {},
   "outputs": [],
   "source": [
    "# first, try by starting with the 0..2048 indices\n",
    "initial_order = np.arange(len(matrix))\n",
    "\n",
    "# final_best_order_1, final_best_cost_1 = simulated_annealing(initial_order)\n",
    "final_best_order_2, final_best_cost_2 = simulated_annealing(sort_indices)\n",
    "\n",
    "print(f\"cost of default order  : {cost_function(initial_order)}\")\n",
    "print(f\"cost of argsort order  : {cost_function(sort_indices)}\")\n",
    "# print(f\"cost of best order 1   : {final_best_cost_1}\")\n",
    "print(f\"cost of best order 2   : {final_best_cost_2}\")\n",
    "\n",
    "# print(f\"before == after for run 1? {np.array_equal(initial_order, final_best_order_1)}\")\n",
    "eq = np.array_equal(sort_indices, final_best_order_2)\n",
    "print(f\"before == after for run 2? {eq}\")\n",
    "# if not eq:\n",
    "print(f\"before: {sort_indices[:10]}\")\n",
    "print(f\"after : {final_best_order_2[:10]}\")\n",
    "print(f\"cost before: {cost_function(sort_indices)}\")\n",
    "print(f\"cost after : {cost_function(final_best_order_2)}\")\n",
    "# 132643157197"
   ]
  },
  {
   "cell_type": "code",
   "execution_count": null,
   "metadata": {},
   "outputs": [],
   "source": [
    "final_best_order_2 = [295, 674, 622, 514, 382, 164, 483, 558, 421, 959, 393, 103, 187, 359, 167, 408, 557, 330, 306, 559, 841, 76, 988, 869, 489, 704, 880, 63, 415, 325, 753, 507, 586, 132, 339, 395, 836, 346, 69, 157, 353, 814, 946, 928, 475, 151, 183, 15, 72, 106, 717, 871, 723, 632, 244, 68, 271, 1003, 887, 758, 949, 33, 202, 808, 800, 683, 570, 914, 126, 436, 916, 734, 272, 508, 441, 427, 305, 494, 606, 963, 459, 386, 179, 329, 263, 333, 460, 90, 696, 923, 154, 652, 20, 989, 833, 945, 455, 450, 158, 671, 844, 898, 278, 798, 984, 660, 481, 968, 572, 908, 771, 99, 737, 210, 638, 541, 129, 300, 727, 478, 1, 651, 563, 31, 289, 796, 577, 371, 573, 654, 631, 532, 473, 978, 518, 739, 120, 823, 13, 440, 659, 825, 1015, 653, 131, 160, 766, 1021, 285, 173, 830, 192, 561, 338, 958, 801, 600, 533, 287, 456, 490, 77, 750, 380, 854, 961, 828, 149, 80, 299, 92, 443, 843, 81, 281, 485, 745, 953, 83, 680, 397, 511, 493, 604, 847, 629, 26, 971, 218, 608, 601, 48, 23, 461, 926, 221, 53, 685, 972, 692, 406, 1011, 18, 227, 361, 888, 773, 956, 357, 101, 842, 200, 630, 1010, 255, 962, 93, 689, 487, 715, 258, 125, 732, 8, 969, 360, 922, 342, 6, 398, 119, 193, 860, 711, 891, 348, 554, 614, 425, 61, 845, 91, 681, 662, 673, 45, 492, 728, 999, 933, 872, 967, 190, 975, 620, 242, 496, 700, 626, 175, 403, 155, 947, 97, 667, 288, 542, 375, 783, 893, 628, 1023, 970, 940, 501, 519, 199, 744, 591, 576, 621, 663, 141, 992, 321, 332, 0, 718, 110, 995, 517, 676, 568, 55, 34, 684, 59, 185, 497, 708, 656, 642, 666, 902, 345, 135, 925, 89, 875, 930, 223, 901, 248, 226, 832, 789, 466, 113, 993, 40, 216, 390, 509, 180, 594, 416, 584, 691, 482, 759, 32, 553, 705, 118, 212, 105, 981, 1002, 937, 291, 215, 821, 297, 247, 786, 886, 233, 451, 112, 293, 778, 71, 391, 615, 207, 980, 768, 525, 974, 407, 499, 921, 512, 453, 384, 742, 575, 876, 712, 521, 617, 1007, 211, 729, 224, 863, 686, 170, 655, 208, 411, 100, 877, 951, 229, 805, 892, 465, 944, 987, 484, 257, 635, 790, 721, 196, 661, 334, 309, 1000, 249, 290, 820, 835, 468, 352, 219, 740, 308, 534, 765, 480, 301, 813, 286, 29, 910, 270, 605, 351, 469, 795, 942, 664, 153, 567, 565, 966, 54, 840, 161, 495, 564, 43, 418, 649, 50, 372, 220, 145, 672, 957, 449, 811, 195, 181, 862, 409, 907, 237, 915, 388, 124, 488, 720, 36, 310, 938, 636, 163, 611, 303, 539, 562, 911, 827, 446, 206, 240, 668, 936, 424, 432, 115, 616, 274, 401, 498, 57, 787, 505, 410, 647, 598, 623, 364, 452, 165, 665, 799, 770, 319, 236, 979, 924, 899, 392, 130, 943, 146, 794, 66, 279, 552, 920, 16, 755, 358, 302, 625, 741, 307, 433, 592, 607, 896, 350, 528, 927, 362, 37, 423, 434, 774, 389, 917, 191, 873, 1004, 402, 990, 463, 121, 462, 95, 918, 722, 904, 698, 7, 88, 117, 27, 776, 549, 733, 246, 373, 383, 264, 793, 935, 282, 964, 1013, 1017, 900, 1020, 128, 738, 283, 889, 939, 619, 764, 767, 897, 919, 314, 834, 46, 445, 587, 537, 643, 646, 148, 230, 491, 214, 955, 855, 252, 96, 344, 269, 326, 327, 784, 816, 866, 1014, 178, 644, 235, 369, 3, 868, 182, 11, 538, 544, 530, 522, 574, 431, 579, 824, 637, 693, 929, 694, 172, 355, 225, 710, 1018, 560, 354, 142, 954, 555, 109, 448, 640, 79, 201, 313, 748, 30, 516, 578, 648, 912, 239, 426, 529, 217, 817, 85, 510, 114, 294, 387, 867, 595, 197, 280, 328, 545, 47, 464, 536, 861, 618, 829, 347, 413, 527, 476, 479, 950, 730, 420, 123, 706, 864, 262, 540, 639, 803, 703, 67, 931, 996, 228, 535, 581, 682, 261, 754, 51, 815, 998, 994, 337, 735, 960, 2, 137, 702, 454, 515, 98, 627, 251, 87, 677, 471, 589, 213, 188, 839, 241, 150, 266, 429, 894, 697, 785, 714, 260, 39, 222, 439, 531, 932, 317, 812, 82, 719, 985, 253, 209, 613, 879, 588, 602, 777, 374, 205, 140, 254, 168, 49, 982, 657, 609, 292, 467, 580, 503, 1005, 322, 986, 198, 324, 797, 624, 781, 782, 62, 177, 941, 670, 857, 470, 1022, 556, 243, 428, 701, 590, 107, 874, 726, 234, 547, 819, 75, 571, 232, 349, 802, 809, 316, 707, 404, 171, 367, 312, 675, 1016, 381, 486, 273, 679, 336, 41, 997, 903, 340, 585, 250, 147, 238, 757, 447, 851, 882, 1019, 885, 500, 890, 14, 394, 965, 144, 296, 678, 139, 335, 267, 430, 275, 569, 831, 111, 850, 713, 804, 256, 752, 331, 859, 474, 315, 9, 634, 524, 856, 837, 546, 506, 116, 909, 435, 695, 633, 127, 934, 977, 699, 884, 769, 749, 457, 1006, 320, 883, 806, 756, 19, 543, 504, 356, 610, 102, 582, 400, 1012, 848, 379, 599, 268, 788, 323, 669, 810, 983, 1001, 304, 761, 84, 906, 853, 775, 64, 548, 176, 437, 136, 370, 438, 259, 189, 878, 86, 603, 245, 520, 779, 4, 194, 502, 365, 417, 870, 277, 976, 28, 458, 780, 865, 378, 792, 311, 523, 108, 818, 366, 174, 724, 10, 58, 736, 760, 852, 650, 846, 948, 284, 746, 231, 826, 952, 22, 1009, 152, 905, 838, 597, 772, 690, 396, 419, 596, 444, 405, 973, 186, 17, 166, 593, 159, 658, 52, 526, 12, 550, 73, 368, 203, 341, 363, 78, 35, 725, 74, 858, 162, 298, 169, 399, 104, 895, 762, 133, 751, 1008, 134, 44, 709, 24, 807, 25, 513, 991, 731, 641, 318, 412, 56, 566, 385, 881, 65, 184, 94, 791, 376, 422, 716, 688, 583, 143, 763, 551, 612, 377, 70, 122, 743, 442, 477, 204, 849, 414, 747, 156, 38, 42, 60, 687, 21, 5, 472, 822, 645, 276, 913, 343, 138, 265]\n",
    "# final_best_order_2 = list(range(len(matrix)))"
   ]
  },
  {
   "cell_type": "code",
   "execution_count": null,
   "metadata": {},
   "outputs": [],
   "source": [
    "factored_matrix = matrix[final_best_order_2][:, final_best_order_2]\n",
    "factored_self_freqs = np.diag(factored_matrix)\n",
    "scaled_factored_matrix = np.zeros_like(factored_matrix, dtype=float)\n",
    "for i in range(len(factored_matrix)):\n",
    "    for j in range(len(factored_matrix)):\n",
    "        scaled_factored_matrix[i, j] = factored_matrix[i, j] / np.sqrt(\n",
    "            factored_self_freqs[i] * factored_self_freqs[j]\n",
    "        )"
   ]
  },
  {
   "cell_type": "code",
   "execution_count": null,
   "metadata": {},
   "outputs": [],
   "source": [
    "plt.figure(figsize=(12, 10))\n",
    "plt.imshow(factored_matrix, interpolation=\"none\", cmap='inferno')\n",
    "plt.colorbar(label=\"number of co-activations\")\n",
    "plt.title(\"factored co-activations\")\n",
    "plt.grid(False)\n",
    "plt.tight_layout()\n",
    "plt.show()"
   ]
  },
  {
   "cell_type": "code",
   "execution_count": null,
   "metadata": {},
   "outputs": [],
   "source": [
    "plt.figure(figsize=(12, 10))\n",
    "plt.imshow(scaled_factored_matrix, interpolation=\"none\", cmap='inferno')\n",
    "plt.colorbar(label=\"number of co-activations\")\n",
    "plt.title(\"factored co-activations\")\n",
    "plt.grid(False)\n",
    "plt.tight_layout()\n",
    "plt.show()"
   ]
  },
  {
   "cell_type": "code",
   "execution_count": null,
   "metadata": {},
   "outputs": [],
   "source": [
    "plt.figure(figsize=(12, 10))\n",
    "plt.imshow(scaled_factored_matrix, interpolation=\"none\", cmap='inferno')\n",
    "plt.axis('off')  # Turn off axes\n",
    "plt.tight_layout()\n",
    "plt.show()"
   ]
  },
  {
   "cell_type": "code",
   "execution_count": null,
   "metadata": {},
   "outputs": [],
   "source": [
    "string_0 = \",\".join([f\"{int(x)}\" for x in sort_indices])\n",
    "# string_1 = \",\".join([f\"{int(x)}\" for x in final_best_order_1])\n",
    "string_2 = \",\".join([f\"{int(x)}\" for x in final_best_order_2])\n",
    "\n",
    "# write the orders to a file\n",
    "with open(\"visit_order.txt\", \"w\") as f:\n",
    "    f.write(f\"argsort order: {string_0}\\n\")\n",
    "    # f.write(f\"best order 1 : {string_1}\\n\")\n",
    "    f.write(f\"best order 2 : {string_2}\\n\")"
   ]
  }
 ],
 "metadata": {
  "kernelspec": {
   "display_name": "advanced-nnue-program (3.10.18)",
   "language": "python",
   "name": "python3"
  },
  "language_info": {
   "codemirror_mode": {
    "name": "ipython",
    "version": 3
   },
   "file_extension": ".py",
   "mimetype": "text/x-python",
   "name": "python",
   "nbconvert_exporter": "python",
   "pygments_lexer": "ipython3",
   "version": "3.10.18"
  }
 },
 "nbformat": 4,
 "nbformat_minor": 2
}
