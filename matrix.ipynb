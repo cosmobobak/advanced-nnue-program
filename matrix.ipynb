{
 "cells": [
  {
   "cell_type": "code",
   "execution_count": 34,
   "metadata": {},
   "outputs": [],
   "source": [
    "import matplotlib.pyplot as plt\n",
    "import numpy as np\n",
    "import random"
   ]
  },
  {
   "cell_type": "code",
   "execution_count": null,
   "metadata": {},
   "outputs": [],
   "source": [
    "%config InlineBackend.figure_format = 'retina'\n",
    "from qbstyles import mpl_style\n",
    "mpl_style(dark=True)"
   ]
  },
  {
   "cell_type": "code",
   "execution_count": null,
   "metadata": {},
   "outputs": [],
   "source": [
    "# Load the data from the file\n",
    "matrix = np.load('correlations.npy')\n",
    "\n",
    "# cut out the top-left 100x100 section\n",
    "# matrix = matrix[:100, :100]\n",
    "\n",
    "# Verify the shape of the matrix\n",
    "rows, cols = matrix.shape\n",
    "assert rows == cols"
   ]
  },
  {
   "cell_type": "code",
   "execution_count": null,
   "metadata": {},
   "outputs": [],
   "source": [
    "diag = np.diag(matrix)\n",
    "self_frequencies = diag\n",
    "argsorted = np.argsort(self_frequencies)\n",
    "sort_indices = argsorted[::-1]\n",
    "sorted_matrix = matrix[sort_indices][:, sort_indices]\n",
    "sorted_self_frequencies = np.diag(sorted_matrix)\n",
    "\n",
    "assert np.array_equal(sorted_self_frequencies, diag[sort_indices]), f\"first few self-frequencies: {sorted_self_frequencies[:5]}, expected: {diag[sort_indices][:5]}\"\n",
    "\n",
    "print(f\"{sort_indices = }\")\n",
    "print(f\"diagonal = {np.diag(sorted_matrix)}\")"
   ]
  },
  {
   "cell_type": "code",
   "execution_count": null,
   "metadata": {},
   "outputs": [],
   "source": [
    "plt.figure(figsize=(12, 10))\n",
    "plt.imshow(sorted_matrix, interpolation=\"none\", cmap='inferno')\n",
    "plt.colorbar(label=\"occurences\")\n",
    "plt.title(\"non-zero co-activations\")\n",
    "plt.grid(False)\n",
    "plt.tight_layout()\n",
    "plt.show()"
   ]
  },
  {
   "cell_type": "code",
   "execution_count": null,
   "metadata": {},
   "outputs": [],
   "source": [
    "plt.figure(figsize=(12, 10))\n",
    "plt.imshow(sorted_matrix[:256, :256], interpolation='none', cmap='inferno')\n",
    "plt.colorbar(label=\"occurences\")\n",
    "plt.title(\"non-zero co-activations\")\n",
    "plt.grid(False)\n",
    "plt.tight_layout()\n",
    "plt.show()"
   ]
  },
  {
   "cell_type": "code",
   "execution_count": null,
   "metadata": {},
   "outputs": [],
   "source": [
    "# scale each co-activation by the self-frequency of the corresponding neuron\n",
    "scaled_matrix = np.zeros_like(sorted_matrix, dtype=float)\n",
    "for i in range(rows):\n",
    "    for j in range(cols):\n",
    "        scaled_matrix[i, j] = sorted_matrix[i, j] / np.sqrt(\n",
    "            self_frequencies[i] * self_frequencies[j]\n",
    "        )"
   ]
  },
  {
   "cell_type": "code",
   "execution_count": null,
   "metadata": {},
   "outputs": [],
   "source": [
    "plt.figure(figsize=(12, 10))\n",
    "plt.imshow(scaled_matrix, interpolation=\"none\", cmap='inferno')\n",
    "plt.colorbar(label=\"scaled co-activation\")\n",
    "plt.title(\"scaled co-activations\")\n",
    "plt.grid(False)\n",
    "plt.tight_layout()\n",
    "plt.show()"
   ]
  },
  {
   "cell_type": "code",
   "execution_count": null,
   "metadata": {},
   "outputs": [],
   "source": [
    "BLOCK_SIZE = 4\n",
    "\n",
    "def cost_function_blocks(order: np.ndarray) -> np.int64:\n",
    "    \"\"\"Calculate the cost of a visit order.\"\"\"\n",
    "    correlation = np.int64(0)\n",
    "    for i in range(0, len(order) - BLOCK_SIZE):\n",
    "        correlation += -np.sqrt(\n",
    "            matrix[order[i], order[i + 1 : i + BLOCK_SIZE]].sum(dtype=np.int64)\n",
    "        )\n",
    "    return correlation\n",
    "\n",
    "def cost_function_fds(order: np.ndarray) -> float:\n",
    "    \"\"\"Calculate the cost of a visit order.\"\"\"\n",
    "    # Compute all column differences at once\n",
    "    col_diffs = matrix[np.ix_(order, order[:-1])] - matrix[np.ix_(order, order[1:])]\n",
    "    return np.sum(np.sqrt(np.absolute(col_diffs)))\n",
    "\n",
    "def cost_function_r_criterion(order: np.ndarray) -> float:\n",
    "    \"\"\"Calculate the R-criterion cost of a visit order.\"\"\"\n",
    "    n = len(order)\n",
    "    # Create distance matrix (how far each position is from diagonal)\n",
    "    positions = np.arange(n)\n",
    "    distances = np.abs(positions[:, None] - positions[None, :])\n",
    "    \n",
    "    # Reorder the matrix according to the order\n",
    "    reordered = matrix[np.ix_(order, order)]\n",
    "    \n",
    "    # R-criterion: sum of (distance from diagonal * matrix value)\n",
    "    return np.sum(distances * reordered)\n",
    "\n",
    "def cost_function_tsp(order: np.ndarray) -> float:\n",
    "    \"\"\"Calculate the TSP-like cost of a visit order.\"\"\"\n",
    "    n = len(order)\n",
    "    total_cost = 0.0\n",
    "    for i in range(n - 1):\n",
    "        total_cost += -np.sqrt(matrix[order[i], order[i + 1]])\n",
    "    return total_cost\n",
    "\n",
    "def cost_function_absence(order: np.ndarray) -> np.int64:\n",
    "    \"\"\"Calculate the cost of a visit order.\"\"\"\n",
    "    cost = np.int64(0)\n",
    "    for i in range(BLOCK_SIZE, len(order) - BLOCK_SIZE):\n",
    "        cost += matrix[order[i], order[i + BLOCK_SIZE:]].sum(dtype=np.int64)\n",
    "        cost += matrix[order[i], order[:i - BLOCK_SIZE]].sum(dtype=np.int64)\n",
    "    return cost\n",
    "\n",
    "cost_function = cost_function_absence\n",
    "\n",
    "# heuristic 1: swap two random indices\n",
    "def swap_two(input: np.ndarray) -> np.ndarray:\n",
    "    \"\"\"Swap two random indices.\"\"\"\n",
    "    # avoid mutating the original order\n",
    "    order = input.copy()\n",
    "    assert not order is input\n",
    "    a, b = random.sample(range(len(order)), 2)\n",
    "    order[a], order[b] = order[b], order[a]\n",
    "    return order\n",
    "\n",
    "# heuristic 2: reverse a random segment\n",
    "def reverse_segment(input: np.ndarray) -> np.ndarray:\n",
    "    \"\"\"Reverse a random segment.\"\"\"\n",
    "    # avoid mutating the original order\n",
    "    order = input.copy()\n",
    "    assert not order is input\n",
    "    a, b = sorted(random.sample(range(len(order)), 2))\n",
    "    order[a : b + 1] = order[a : b + 1][::-1]\n",
    "    return order\n",
    "\n",
    "def simulated_annealing(order: np.ndarray, initial_temp=1, cooling_rate=0.99999, min_temp=1e-6) -> tuple[np.ndarray, np.int64]:\n",
    "    \"\"\"Simulated annealing to optimise the visit order.\"\"\"\n",
    "    current_order = order[:]\n",
    "    best_order = order[:]\n",
    "    current_cost = cost_function(order[:])\n",
    "    best_cost = current_cost\n",
    "    temp = initial_temp\n",
    "\n",
    "    while temp > min_temp:\n",
    "        new_order = random.choice([swap_two, reverse_segment])(current_order)\n",
    "        new_cost = cost_function(new_order)\n",
    "\n",
    "        if (\n",
    "            new_cost < current_cost\n",
    "            or np.exp((current_cost - new_cost) / temp) > random.random()\n",
    "        ):\n",
    "            current_order, current_cost = new_order.copy(), new_cost\n",
    "            if new_cost < best_cost:\n",
    "                best_order, best_cost = new_order.copy(), new_cost\n",
    "                print(f\"New best cost: {best_cost}\")\n",
    "\n",
    "        temp *= cooling_rate\n",
    "\n",
    "    return best_order, best_cost"
   ]
  },
  {
   "cell_type": "code",
   "execution_count": null,
   "metadata": {},
   "outputs": [],
   "source": [
    "# first, try by starting with the 0..2048 indices\n",
    "initial_order = np.arange(len(matrix))\n",
    "\n",
    "# final_best_order_1, final_best_cost_1 = simulated_annealing(initial_order)\n",
    "final_best_order_2, final_best_cost_2 = simulated_annealing(sort_indices)\n",
    "\n",
    "print(f\"cost of default order  : {cost_function(initial_order)}\")\n",
    "print(f\"cost of argsort order  : {cost_function(sort_indices)}\")\n",
    "# print(f\"cost of best order 1   : {final_best_cost_1}\")\n",
    "print(f\"cost of best order 2   : {final_best_cost_2}\")\n",
    "\n",
    "# print(f\"before == after for run 1? {np.array_equal(initial_order, final_best_order_1)}\")\n",
    "eq = np.array_equal(sort_indices, final_best_order_2)\n",
    "print(f\"before == after for run 2? {eq}\")\n",
    "# if not eq:\n",
    "print(f\"before: {sort_indices[:10]}\")\n",
    "print(f\"after : {final_best_order_2[:10]}\")\n",
    "print(f\"cost before: {cost_function(sort_indices)}\")\n",
    "print(f\"cost after : {cost_function(final_best_order_2)}\")\n",
    "# 132643157197"
   ]
  },
  {
   "cell_type": "code",
   "execution_count": null,
   "metadata": {},
   "outputs": [],
   "source": [
    "factored_matrix = matrix[final_best_order_2][:, final_best_order_2]\n",
    "factored_self_freqs = np.diag(factored_matrix)\n",
    "scaled_factored_matrix = np.zeros_like(factored_matrix, dtype=float)\n",
    "for i in range(len(factored_matrix)):\n",
    "    for j in range(len(factored_matrix)):\n",
    "        scaled_factored_matrix[i, j] = factored_matrix[i, j] / np.sqrt(\n",
    "            factored_self_freqs[i] * factored_self_freqs[j]\n",
    "        )"
   ]
  },
  {
   "cell_type": "code",
   "execution_count": null,
   "metadata": {},
   "outputs": [],
   "source": [
    "plt.figure(figsize=(12, 10))\n",
    "plt.imshow(factored_matrix, interpolation=\"none\", cmap='inferno')\n",
    "plt.colorbar(label=\"number of co-activations\")\n",
    "plt.title(\"factored co-activations\")\n",
    "plt.grid(False)\n",
    "plt.tight_layout()\n",
    "plt.show()"
   ]
  },
  {
   "cell_type": "code",
   "execution_count": null,
   "metadata": {},
   "outputs": [],
   "source": [
    "plt.figure(figsize=(12, 10))\n",
    "plt.imshow(scaled_factored_matrix, interpolation=\"none\", cmap='inferno')\n",
    "plt.colorbar(label=\"number of co-activations\")\n",
    "plt.title(\"factored co-activations\")\n",
    "plt.grid(False)\n",
    "plt.tight_layout()\n",
    "plt.show()"
   ]
  },
  {
   "cell_type": "code",
   "execution_count": null,
   "metadata": {},
   "outputs": [],
   "source": [
    "string_0 = \",\".join([f\"{int(x)}\" for x in sort_indices])\n",
    "# string_1 = \",\".join([f\"{int(x)}\" for x in final_best_order_1])\n",
    "string_2 = \",\".join([f\"{int(x)}\" for x in final_best_order_2])\n",
    "\n",
    "# write the orders to a file\n",
    "with open(\"visit_order.txt\", \"w\") as f:\n",
    "    f.write(f\"argsort order: {string_0}\\n\")\n",
    "    # f.write(f\"best order 1 : {string_1}\\n\")\n",
    "    f.write(f\"best order 2 : {string_2}\\n\")"
   ]
  }
 ],
 "metadata": {
  "kernelspec": {
   "display_name": "advanced-nnue-program",
   "language": "python",
   "name": "python3"
  },
  "language_info": {
   "codemirror_mode": {
    "name": "ipython",
    "version": 3
   },
   "file_extension": ".py",
   "mimetype": "text/x-python",
   "name": "python",
   "nbconvert_exporter": "python",
   "pygments_lexer": "ipython3",
   "version": "3.10.18"
  }
 },
 "nbformat": 4,
 "nbformat_minor": 2
}
