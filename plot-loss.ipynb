{
 "cells": [
  {
   "cell_type": "code",
   "execution_count": null,
   "metadata": {},
   "outputs": [],
   "source": [
    "import pandas as pd\n",
    "import matplotlib.pyplot as plt\n",
    "import os\n",
    "import numpy as np"
   ]
  },
  {
   "cell_type": "code",
   "execution_count": null,
   "metadata": {},
   "outputs": [],
   "source": [
    "%config InlineBackend.figure_format = 'retina'\n",
    "from qbstyles import mpl_style\n",
    "mpl_style(dark=True)"
   ]
  },
  {
   "cell_type": "code",
   "execution_count": null,
   "metadata": {},
   "outputs": [],
   "source": [
    "# plt.style.use('dark_background')"
   ]
  },
  {
   "cell_type": "code",
   "execution_count": null,
   "metadata": {},
   "outputs": [],
   "source": [
    "# Load the CSV file\n",
    "whitelist = [\"basilisk\"]\n",
    "# whitelist = [\"alembic\"]\n",
    "PATH = \"../../bullet/checkpoints\"\n",
    "\n",
    "dfs = []\n",
    "for file in os.listdir(PATH):\n",
    "    if not any(name in file for name in whitelist):\n",
    "        continue\n",
    "    file_path = f\"{PATH}/{file}/log.txt\"\n",
    "    print(f\"{file_path = }\")\n",
    "\n",
    "    df = pd.read_csv(file_path, header=None, names=[\"superbatch\", \"batch\", \"loss\"], dtype=str)\n",
    "\n",
    "    print(f\"lines = {len(df)}\")\n",
    "\n",
    "    # print(df.head())\n",
    "    df[\"superbatch\"] = df[\"superbatch\"].str.removeprefix(\"superbatch:\").astype(int)\n",
    "    df[\"batch\"] = df[\"batch\"].str.removeprefix(\"batch:\").astype(int)\n",
    "    df[\"loss\"] = df[\"loss\"].str.removeprefix(\"loss:\").astype(float)\n",
    "    # print(df.head())\n",
    "\n",
    "    # Group by epoch and calculate the average loss for each epoch\n",
    "    df[\"total_batch\"] = (df[\"superbatch\"] - 1) * 6104 + df[\"batch\"]\n",
    "    df.drop([\"superbatch\", \"batch\"], axis=1, inplace=True)\n",
    "\n",
    "    dfs.append((file, df))\n",
    "\n",
    "# Plotting\n",
    "plt.figure(figsize=(15, 8))\n",
    "\n",
    "CONV = 551\n",
    "HALF = (CONV - 1) // 2\n",
    "\n",
    "colors = [\"coral\", \"cyan\", \"orange\", \"red\", \"white\", \"green\", \"blue\", \"pink\"]\n",
    "colors = (c for c in colors)\n",
    "\n",
    "for file, df in dfs:\n",
    "    plt.plot(\n",
    "        df[\"total_batch\"][500:][HALF:-HALF] / 6104,\n",
    "        np.convolve(df[\"loss\"][500:], np.ones(CONV) / CONV, \"valid\"),\n",
    "        label=f\"{file} epoch mean loss\",\n",
    "        alpha=0.6,\n",
    "        color=next(colors)\n",
    "    )\n",
    "\n",
    "# Adding labels and title\n",
    "plt.xlabel(\"Superbatch\")\n",
    "plt.ylabel('Loss')\n",
    "plt.title('Experiment loss over time')\n",
    "plt.legend()\n",
    "plt.grid(True)\n",
    "\n",
    "# Show the plot\n",
    "plt.show()"
   ]
  }
 ],
 "metadata": {
  "kernelspec": {
   "display_name": "advanced-nnue-program",
   "language": "python",
   "name": "python3"
  },
  "language_info": {
   "codemirror_mode": {
    "name": "ipython",
    "version": 3
   },
   "file_extension": ".py",
   "mimetype": "text/x-python",
   "name": "python",
   "nbconvert_exporter": "python",
   "pygments_lexer": "ipython3",
   "version": "3.13.3"
  }
 },
 "nbformat": 4,
 "nbformat_minor": 2
}
